{
  "nbformat": 4,
  "nbformat_minor": 0,
  "metadata": {
    "colab": {
      "name": "hisseki.ipynb",
      "private_outputs": true,
      "provenance": [],
      "collapsed_sections": [],
      "authorship_tag": "ABX9TyMJ+aOUjSVzk37N2DxYldHk",
      "include_colab_link": true
    },
    "kernelspec": {
      "name": "python3",
      "display_name": "Python 3"
    },
    "language_info": {
      "name": "python"
    },
    "accelerator": "GPU"
  },
  "cells": [
    {
      "cell_type": "markdown",
      "metadata": {
        "id": "view-in-github",
        "colab_type": "text"
      },
      "source": [
        "<a href=\"https://colab.research.google.com/github/takuminmin-m/hisseki_test_py/blob/main/hisseki.ipynb\" target=\"_parent\"><img src=\"https://colab.research.google.com/assets/colab-badge.svg\" alt=\"Open In Colab\"/></a>"
      ]
    },
    {
      "cell_type": "markdown",
      "metadata": {
        "id": "bO61WJoQV922"
      },
      "source": [
        "ランタイムの接続が切れないようにするJavaScriptコード\n",
        "DevToolsのコンソールに入力\n",
        "\n",
        "JavaScript code to stop for the runtime to disconnect \n",
        "\n",
        "```javascript\n",
        "function KeepClicking(){\n",
        "console.log(\"Clicking\");\n",
        "document.querySelector(\"colab-connect-button\").click();\n",
        "}\n",
        "setInterval(KeepClicking,60000);\n",
        "```\n",
        "\n"
      ]
    },
    {
      "cell_type": "markdown",
      "metadata": {
        "id": "xOC0H0_kxQPT"
      },
      "source": [
        "# データのインポート import data\n",
        "google driveをマウント\n",
        "\n",
        "Mount google drive"
      ]
    },
    {
      "cell_type": "code",
      "metadata": {
        "id": "peJkLlk6xXvT"
      },
      "source": [
        "from google.colab import drive\n",
        "drive.mount('/content/drive')"
      ],
      "execution_count": null,
      "outputs": []
    },
    {
      "cell_type": "markdown",
      "metadata": {
        "id": "hYZZBckWZ8BI"
      },
      "source": [
        "ライブラリの読み込みなど\n",
        "\n",
        "Load libraries and more"
      ]
    },
    {
      "cell_type": "code",
      "metadata": {
        "id": "1M55o6TIZ6MJ"
      },
      "source": [
        "# tensorflow\n",
        "import tensorflow as tf\n",
        "from tensorflow import keras\n",
        "from tensorflow.keras import layers, models, optimizers, losses\n",
        "\n",
        "!pip install -U keras-tuner\n",
        "import kerastuner as kt\n",
        "\n",
        "import os\n",
        "import numpy as np\n",
        "import IPython.display as display\n",
        "import random\n",
        "import matplotlib.pyplot as plt\n",
        "import pathlib\n",
        "import IPython\n",
        "\n",
        "AUTOTUNE = tf.data.experimental.AUTOTUNE"
      ],
      "execution_count": null,
      "outputs": []
    },
    {
      "cell_type": "markdown",
      "metadata": {
        "id": "FccIvfL-ziag"
      },
      "source": [
        "作業ディレクトリの移動とデータの読み込み\n",
        "\n",
        "Change the working directory and load labels.txt and handwriting images"
      ]
    },
    {
      "cell_type": "code",
      "metadata": {
        "id": "zVJQziip2fMk"
      },
      "source": [
        "%cd /content/drive/MyDrive/colab/hisseki_test_py\n",
        "\n",
        "def preprocess_image(image):\n",
        "  image_4ch = tf.image.decode_image(image, channels=4, expand_animations=False)\n",
        "  image_4ch = tf.image.resize(image_4ch, [128, 128])\n",
        "  image = tf.cast(tf.reduce_sum(image_4ch, 2, keepdims=True), tf.float32)\n",
        "  image /= 255.0  # normalize to [0,1] range\n",
        "  # image_4ch /= 255.0\n",
        "\n",
        "  return image\n",
        "\n",
        "def load_and_preprocess_image(path):\n",
        "  image = tf.io.read_file(path)\n",
        "  return preprocess_image(image)\n",
        "\n",
        "label_file = open(\"tf_datas/labels.txt\")\n",
        "labels_str = label_file.readlines()\n",
        "label_file.close()\n",
        "all_labels = list(map(lambda str: int(str), labels_str))\n",
        "\n",
        "data_num = len(all_labels)\n",
        "member_num = len(set(all_labels))\n",
        "image_paths = []\n",
        "for i in range(data_num):\n",
        "  image_paths.append(\"/content/drive/MyDrive/colab/hisseki_test_py/tf_datas/hisseki%d.png\" % i)\n",
        "\n",
        "example_image_path = random.choice(image_paths) # 予めテスト画像を抽出\n",
        "\n",
        "image_paths = tf.data.Dataset.from_tensor_slices(image_paths)\n",
        "all_images = list(image_paths.map(load_and_preprocess_image, num_parallel_calls=AUTOTUNE))\n",
        "all_datas = []\n",
        "for i in range(data_num):\n",
        "  all_datas.append({\"image\": all_images[i], \"label\": all_labels[i]})\n",
        "\n",
        "# ランダムに画像をテスト表示\n",
        "# randomly choose a handwriting image and show to test\n",
        "\n",
        "example_image_raw = tf.io.read_file(example_image_path)\n",
        "example_image = tf.image.decode_image(example_image_raw, channels=4, expand_animations=False)\n",
        "plt.imshow(example_image)\n",
        "plt.grid(False)\n",
        "plt.show()"
      ],
      "execution_count": null,
      "outputs": []
    },
    {
      "cell_type": "markdown",
      "metadata": {
        "id": "eWUJRtaNiGbh"
      },
      "source": [
        "教師データの前処理\n",
        "\n",
        "Preprocess training data"
      ]
    },
    {
      "cell_type": "code",
      "metadata": {
        "id": "BBm_NxIXiAla"
      },
      "source": [
        "def split(list, slice_index):\n",
        "  shuffled_list = list\n",
        "  random.shuffle(shuffled_list)\n",
        "  return shuffled_list[:slice_index], shuffled_list[slice_index:]\n",
        "\n",
        "def separate_image_and_label(list):\n",
        "  images = []\n",
        "  labels = []\n",
        "  for i in range(len(list)):\n",
        "    images.append(list[i][\"image\"])\n",
        "    labels.append(list[i][\"label\"])\n",
        "  return images, labels\n",
        "\n",
        "random.shuffle(all_datas)\n",
        "slice_index = int(data_num * 0.9)\n",
        "train_datas, test_datas = split(all_datas, slice_index)\n",
        "\n",
        "train_images, train_labels = separate_image_and_label(train_datas)\n",
        "test_images, test_labels = separate_image_and_label(test_datas)\n",
        "\n",
        "train_images = np.array(train_images)\n",
        "train_labels = np.array(train_labels)\n",
        "test_images = np.array(test_images)\n",
        "test_labels = np.array(test_labels)"
      ],
      "execution_count": null,
      "outputs": []
    },
    {
      "cell_type": "markdown",
      "metadata": {
        "id": "6URNOKUknvgG"
      },
      "source": [
        "# 識別用モデルを作成 Make a classification model"
      ]
    },
    {
      "cell_type": "markdown",
      "metadata": {
        "id": "kf0vZ5_R1RwF"
      },
      "source": [
        "モデルの構築例\n",
        "\n",
        "Example model"
      ]
    },
    {
      "cell_type": "code",
      "metadata": {
        "id": "xsoJK_VPnsaK"
      },
      "source": [
        "model = keras.Sequential([\n",
        "    layers.Conv2D(32, (3, 3), activation=\"relu\", input_shape=(128, 128, 4)),\n",
        "    layers.MaxPooling2D((2, 2)),\n",
        "    layers.Conv2D(64, (3, 3), activation=\"relu\"),\n",
        "    layers.MaxPooling2D((2, 2)),\n",
        "    layers.Conv2D(64, (3, 3), activation=\"relu\"),\n",
        "    layers.Flatten(),\n",
        "    layers.Dense(64, activation=\"relu\"),\n",
        "    layers.Dense(member_num, activation=\"softmax\")\n",
        "])\n",
        "\n",
        "model.compile(\n",
        "    optimizer=\"adam\",\n",
        "    loss=\"sparse_categorical_crossentropy\",\n",
        "    metrics=[\"accuracy\"]\n",
        ")"
      ],
      "execution_count": null,
      "outputs": []
    },
    {
      "cell_type": "markdown",
      "metadata": {
        "id": "nS_TTQy5jnIq"
      },
      "source": [
        "## ハイパーパラメータのチューニング Tune hyperparameter\n",
        "\n",
        "\n",
        "モデルを作る関数\n",
        "\n",
        "Function that makes model"
      ]
    },
    {
      "cell_type": "markdown",
      "metadata": {
        "id": "McbnjSVPhhl4"
      },
      "source": [
        "VGG16"
      ]
    },
    {
      "cell_type": "code",
      "metadata": {
        "id": "vIPdETWkjmFY"
      },
      "source": [
        "def model_builder(hp):\n",
        "  model = keras.Sequential()\n",
        "\n",
        "  for i in range(0, 13):\n",
        "    filter_num = hp.Int(f\"filter_num_{i}\", 16, 256, 16)\n",
        "    filter_size = hp.Int(f\"filter_size_{i}\", 3, 11, 2)\n",
        "\n",
        "    if i == 0:\n",
        "      model.add(layers.Conv2D(\n",
        "          filter_num,\n",
        "          (filter_size, filter_size),\n",
        "          padding=\"same\",\n",
        "          activation=\"relu\",\n",
        "          input_shape=(128, 128, 4)\n",
        "      ))\n",
        "    else:\n",
        "      model.add(layers.Conv2D(\n",
        "          filter_num,\n",
        "          (filter_size, filter_size),\n",
        "          padding=\"same\",\n",
        "          activation=\"relu\"\n",
        "      ))\n",
        "    \n",
        "    if i in [1, 3, 6, 9, 12]:\n",
        "      model.add(layers.MaxPooling2D((2, 2)))\n",
        "\n",
        "  model.add(layers.Flatten())\n",
        "  \n",
        "  for i in range(hp.Int(\"num_layers\", 1, 5, 1)):\n",
        "    num_units = hp.Int(f\"num_units_{i}\", 32, 512, 32)\n",
        "    model.add(layers.Dense(\n",
        "        units=num_units,\n",
        "        activation=\"relu\"\n",
        "    ))\n",
        "\n",
        "  model.add(layers.Dense(member_num, activation=\"softmax\"))\n",
        "\n",
        "  hp_learning_rate = hp.Choice(\"learning_rate\", values=[1e-2, 1e-3, 1e-4])\n",
        "  model.compile(\n",
        "    optimizer=optimizers.Adam(learning_rate=hp_learning_rate),\n",
        "    loss=losses.SparseCategoricalCrossentropy(from_logits=True),\n",
        "    metrics=[\"accuracy\"]\n",
        "  )\n",
        "\n",
        "  return model\n",
        "\n",
        "tuner = kt.Hyperband(\n",
        "    model_builder,\n",
        "    objective = \"val_accuracy\",\n",
        "    max_epochs = 10,\n",
        "    directory = \"my_dir\",\n",
        "    project_name = \"hisseki\"\n",
        ")"
      ],
      "execution_count": null,
      "outputs": []
    },
    {
      "cell_type": "markdown",
      "metadata": {
        "id": "CiaDpIbt1HWQ"
      },
      "source": [
        "コールバックを設定\n",
        "\n",
        "Set the callbacks"
      ]
    },
    {
      "cell_type": "code",
      "metadata": {
        "id": "LgbvPA2sJr-6"
      },
      "source": [
        "class ClearTrainingOutput(keras.callbacks.Callback):\n",
        "  def on_train_end(*args, **kwargs):\n",
        "    # self.model.summary()\n",
        "    # keras.utils.plot_model(self.model, \"model_plot.png\", show_shapes=True)\n",
        "    IPython.display.clear_output(wait=True)"
      ],
      "execution_count": null,
      "outputs": []
    },
    {
      "cell_type": "markdown",
      "metadata": {
        "id": "uMtvU09Y1MJ5"
      },
      "source": [
        "探索\n",
        "\n",
        "Search"
      ]
    },
    {
      "cell_type": "code",
      "metadata": {
        "id": "gB3JdeKpKCea"
      },
      "source": [
        "tuner.search(train_images, train_labels, epochs=10, validation_data=(test_images, test_labels), callbacks=[ClearTrainingOutput()])\n",
        "\n",
        "best_hps = tuner.get_best_hyperparameters(num_trials=1)[0]"
      ],
      "execution_count": null,
      "outputs": []
    },
    {
      "cell_type": "markdown",
      "metadata": {
        "id": "Omg16GNl9kne"
      },
      "source": [
        "モデルをつくって訓練\n",
        "\n",
        "Make a model and train it"
      ]
    },
    {
      "cell_type": "code",
      "metadata": {
        "id": "MERiKMF4LHma"
      },
      "source": [
        "model = tuner.hypermodel.build(best_hps)\n",
        "model.fit(train_images, train_labels, epochs=10, validation_data=(test_images, test_labels))"
      ],
      "execution_count": null,
      "outputs": []
    },
    {
      "cell_type": "markdown",
      "metadata": {
        "id": "OVdar6y99tca"
      },
      "source": [
        "モデルをセーブ\n",
        "\n",
        "Save a model"
      ]
    },
    {
      "cell_type": "code",
      "metadata": {
        "id": "LBMtYScK9wdU"
      },
      "source": [
        "import datetime\n",
        "\n",
        "dt_now = datetime.datetime.now()\n",
        "timestomp_str = dt_now.strftime(\"%y%m%d%H%M%S\")\n",
        "\n",
        "model.save(f\"classification_hisseki_model{timestomp_str}\")"
      ],
      "execution_count": null,
      "outputs": []
    },
    {
      "cell_type": "markdown",
      "metadata": {
        "id": "mi4I_sdvZeNe"
      },
      "source": [
        "モデルをロード\n",
        "\n",
        "Load a model"
      ]
    },
    {
      "cell_type": "code",
      "metadata": {
        "id": "KNfOh9_XZhSu"
      },
      "source": [
        "print(\"Enter the file name of model\")\n",
        "file_name = input().strip()\n",
        "\n",
        "model = models.load_model(file_name)"
      ],
      "execution_count": null,
      "outputs": []
    },
    {
      "cell_type": "markdown",
      "metadata": {
        "id": "TI1xMhUdlpbi"
      },
      "source": [
        "モデルの確認\n",
        "\n",
        "Check the model"
      ]
    },
    {
      "cell_type": "code",
      "metadata": {
        "id": "Wq-l1V1GlsmV"
      },
      "source": [
        "model.summary()\n",
        "\n",
        "keras.utils.plot_model(model, \"classification_model_plot.png\", show_shapes=True)"
      ],
      "execution_count": null,
      "outputs": []
    },
    {
      "cell_type": "markdown",
      "metadata": {
        "id": "lCcWgA0GqEa5"
      },
      "source": [
        "評価\n",
        "\n",
        "Evaluation"
      ]
    },
    {
      "cell_type": "code",
      "metadata": {
        "id": "41n_YZjzqhxl"
      },
      "source": [
        "model.evaluate(test_images, test_labels, verbose=2)"
      ],
      "execution_count": null,
      "outputs": []
    }
  ]
}