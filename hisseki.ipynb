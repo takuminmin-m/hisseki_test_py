{
  "nbformat": 4,
  "nbformat_minor": 0,
  "metadata": {
    "colab": {
      "name": "hisseki.ipynb",
      "provenance": [],
      "authorship_tag": "ABX9TyMAuJazLTXIEviH4jf3d3l9",
      "include_colab_link": true
    },
    "kernelspec": {
      "name": "python3",
      "display_name": "Python 3"
    },
    "language_info": {
      "name": "python"
    }
  },
  "cells": [
    {
      "cell_type": "markdown",
      "metadata": {
        "id": "view-in-github",
        "colab_type": "text"
      },
      "source": [
        "<a href=\"https://colab.research.google.com/github/takuminmin-m/hisseki_test_py/blob/main/hisseki.ipynb\" target=\"_parent\"><img src=\"https://colab.research.google.com/assets/colab-badge.svg\" alt=\"Open In Colab\"/></a>"
      ]
    },
    {
      "cell_type": "markdown",
      "metadata": {
        "id": "bO61WJoQV922"
      },
      "source": [
        "ランタイムの接続が切れないようにするJavaScriptコード\n",
        "DevToolsのコンソールに入力\n",
        "\n",
        "JavaScript code to stop for the runtime to disconnect \n",
        "\n",
        "```javascript\n",
        "function KeepClicking(){\n",
        "console.log(\"Clicking\");\n",
        "document.querySelector(\"colab-connect-button\").click();\n",
        "}\n",
        "setInterval(KeepClicking,60000);\n",
        "```\n",
        "\n"
      ]
    },
    {
      "cell_type": "markdown",
      "metadata": {
        "id": "xOC0H0_kxQPT"
      },
      "source": [
        "# データのインポート import data\n",
        "google driveをマウント\n",
        "\n",
        "Mount google drive"
      ]
    },
    {
      "cell_type": "code",
      "metadata": {
        "colab": {
          "base_uri": "https://localhost:8080/"
        },
        "id": "peJkLlk6xXvT",
        "outputId": "3eea703e-8ad7-4cf4-e128-79b4d345cbda"
      },
      "source": [
        "from google.colab import drive\n",
        "drive.mount('/content/drive')"
      ],
      "execution_count": null,
      "outputs": [
        {
          "output_type": "stream",
          "name": "stdout",
          "text": [
            "Mounted at /content/drive\n"
          ]
        }
      ]
    },
    {
      "cell_type": "markdown",
      "metadata": {
        "id": "hYZZBckWZ8BI"
      },
      "source": [
        "ライブラリの読み込みなど\n",
        "\n",
        "Load libraries and more"
      ]
    },
    {
      "cell_type": "code",
      "metadata": {
        "id": "1M55o6TIZ6MJ"
      },
      "source": [
        "# tensorflow\n",
        "import tensorflow as tf\n",
        "from tensorflow import keras\n",
        "from tensorflow.keras import layers, models\n",
        "\n",
        "import os\n",
        "import numpy as np\n",
        "import IPython.display as display\n",
        "import random\n",
        "import matplotlib.pyplot as plt\n",
        "import pathlib\n",
        "\n",
        "AUTOTUNE = tf.data.experimental.AUTOTUNE"
      ],
      "execution_count": null,
      "outputs": []
    },
    {
      "cell_type": "markdown",
      "metadata": {
        "id": "FccIvfL-ziag"
      },
      "source": [
        "作業ディレクトリの移動とデータの読み込み\n",
        "\n",
        "Change the working directory and load labels.txt and handwriting images"
      ]
    },
    {
      "cell_type": "code",
      "metadata": {
        "id": "zVJQziip2fMk",
        "colab": {
          "base_uri": "https://localhost:8080/",
          "height": 286
        },
        "outputId": "efa769a7-2787-444b-f8b9-7518abb2c5eb"
      },
      "source": [
        "%cd /content/drive/MyDrive/colab/hisseki_test_py\n",
        "\n",
        "def preprocess_image(image):\n",
        "  image_4ch = tf.image.decode_image(image, channels=4, expand_animations=False)\n",
        "  image_4ch = tf.image.resize(image_4ch, [128, 128])\n",
        "  # image = tf.cast(tf.reduce_sum(image_4ch, 2, keepdims=True), tf.float32)\n",
        "  # image /= 255.0  # normalize to [0,1] range\n",
        "  image_4ch /= 255.0\n",
        "\n",
        "  return image_4ch\n",
        "\n",
        "def load_and_preprocess_image(path):\n",
        "  image = tf.io.read_file(path)\n",
        "  return preprocess_image(image)\n",
        "\n",
        "label_file = open(\"tf_datas/labels.txt\")\n",
        "labels_str = label_file.readlines()\n",
        "label_file.close()\n",
        "all_labels = list(map(lambda str: int(str), labels_str))\n",
        "\n",
        "data_num = len(all_labels)\n",
        "image_paths = []\n",
        "for i in range(data_num):\n",
        "  image_paths.append(\"/content/drive/MyDrive/colab/hisseki_test_py/tf_datas/hisseki%d.png\" % i)\n",
        "\n",
        "image_paths = tf.data.Dataset.from_tensor_slices(image_paths)\n",
        "all_images = list(path_ds.map(load_and_preprocess_image, num_parallel_calls=AUTOTUNE))\n",
        "all_datas = []\n",
        "for i in range(data_num):\n",
        "  all_datas.append({\"image\": all_images[i], \"label\": all_labels[i]})\n",
        "\n",
        "# ランダムに画像をテスト表示\n",
        "# randomly choose a handwriting image and show to test\n",
        "plt.imshow(random.choice(list(image_ds)))\n",
        "plt.grid(False)\n",
        "plt.show()"
      ],
      "execution_count": null,
      "outputs": [
        {
          "output_type": "stream",
          "name": "stdout",
          "text": [
            "/content/drive/MyDrive/colab/hisseki_test_py\n"
          ]
        },
        {
          "output_type": "display_data",
          "data": {
            "image/png": "[encoded data removed]",
            "text/plain": [
              "<Figure size 432x288 with 1 Axes>"
            ]
          },
          "metadata": {
            "needs_background": "light"
          }
        }
      ]
    },
    {
      "cell_type": "markdown",
      "metadata": {
        "id": "eWUJRtaNiGbh"
      },
      "source": [
        "教師データの前処理\n",
        "\n",
        "Preprocess training data"
      ]
    },
    {
      "cell_type": "code",
      "metadata": {
        "colab": {
          "base_uri": "https://localhost:8080/"
        },
        "id": "BBm_NxIXiAla",
        "outputId": "9d1d0fe5-b038-40d5-caa5-58650bb83388"
      },
      "source": [
        "def choose(list, slice_index):\n",
        "  shuffled_list = list\n",
        "  random.shuffle(shuffled_list)\n",
        "  return shuffled_list[slice_index:], shuffled_list[]"
      ],
      "execution_count": null,
      "outputs": [
        {
          "output_type": "stream",
          "name": "stdout",
          "text": [
            "WARNING:tensorflow:From <ipython-input-4-a7dee2421063>:4: shuffle_and_repeat (from tensorflow.python.data.experimental.ops.shuffle_ops) is deprecated and will be removed in a future version.\n",
            "Instructions for updating:\n",
            "Use `tf.data.Dataset.shuffle(buffer_size, seed)` followed by `tf.data.Dataset.repeat(count)`. Static tf.data optimizations will take care of using the fused implementation.\n"
          ]
        }
      ]
    },
    {
      "cell_type": "markdown",
      "metadata": {
        "id": "6URNOKUknvgG"
      },
      "source": [
        "モデルの設定\n",
        "\n",
        "Set model"
      ]
    },
    {
      "cell_type": "code",
      "metadata": {
        "colab": {
          "base_uri": "https://localhost:8080/"
        },
        "id": "xsoJK_VPnsaK",
        "outputId": "c8e103e5-86b0-43a8-e3d0-1c0b35e7c861"
      },
      "source": [
        "model = keras.Sequential([\n",
        "    layers.Conv2D(32, (7, 7), activation=\"relu\", input_shape=(128, 128, 4)),\n",
        "    layers.MaxPooling2D((4, 4)),\n",
        "    layers.Conv2D(64, (3, 3), activation=\"relu\"),\n",
        "    layers.MaxPooling2D((2, 2)),\n",
        "    layers.Conv2D(64, (3, 3), activation=\"relu\"),\n",
        "    layers.Flatten(),\n",
        "    layers.Dense(64, activation=\"relu\"),\n",
        "    layers.Dense(data_num, activation=\"softmax\")\n",
        "])\n",
        "\n",
        "model.compile(\n",
        "    optimizer=\"adam\",\n",
        "    loss=\"sparse_categorical_crossentropy\",\n",
        "    metrics=[\"accuracy\"]\n",
        ")\n",
        "\n",
        "model.summary()"
      ],
      "execution_count": null,
      "outputs": [
        {
          "output_type": "stream",
          "name": "stdout",
          "text": [
            "Model: \"sequential\"\n",
            "_________________________________________________________________\n",
            "Layer (type)                 Output Shape              Param #   \n",
            "=================================================================\n",
            "conv2d (Conv2D)              (None, 122, 122, 32)      6304      \n",
            "_________________________________________________________________\n",
            "max_pooling2d (MaxPooling2D) (None, 30, 30, 32)        0         \n",
            "_________________________________________________________________\n",
            "conv2d_1 (Conv2D)            (None, 28, 28, 64)        18496     \n",
            "_________________________________________________________________\n",
            "max_pooling2d_1 (MaxPooling2 (None, 14, 14, 64)        0         \n",
            "_________________________________________________________________\n",
            "conv2d_2 (Conv2D)            (None, 12, 12, 64)        36928     \n",
            "_________________________________________________________________\n",
            "flatten (Flatten)            (None, 9216)              0         \n",
            "_________________________________________________________________\n",
            "dense (Dense)                (None, 64)                589888    \n",
            "_________________________________________________________________\n",
            "dense_1 (Dense)              (None, 173)               11245     \n",
            "=================================================================\n",
            "Total params: 662,861\n",
            "Trainable params: 662,861\n",
            "Non-trainable params: 0\n",
            "_________________________________________________________________\n"
          ]
        }
      ]
    },
    {
      "cell_type": "markdown",
      "metadata": {
        "id": "6hW4xctLounl"
      },
      "source": [
        "訓練\n",
        "\n",
        "Train"
      ]
    },
    {
      "cell_type": "code",
      "metadata": {
        "colab": {
          "base_uri": "https://localhost:8080/"
        },
        "id": "EuYUFrSpoxxT",
        "outputId": "2e7b0ac3-46b2-42b2-8e1e-b00a62a867e7"
      },
      "source": [
        "model.fit(ds, epochs=10, steps_per_epoch=10)"
      ],
      "execution_count": null,
      "outputs": [
        {
          "output_type": "stream",
          "name": "stdout",
          "text": [
            "Epoch 1/10\n",
            "10/10 [==============================] - 8s 679ms/step - loss: 4.4306 - accuracy: 0.1094\n",
            "Epoch 2/10\n",
            "10/10 [==============================] - 7s 681ms/step - loss: 1.9733 - accuracy: 0.5094\n",
            "Epoch 3/10\n",
            "10/10 [==============================] - 7s 682ms/step - loss: 0.4860 - accuracy: 0.8656\n",
            "Epoch 4/10\n",
            "10/10 [==============================] - 7s 678ms/step - loss: 0.1174 - accuracy: 0.9750\n",
            "Epoch 5/10\n",
            "10/10 [==============================] - 7s 677ms/step - loss: 0.0852 - accuracy: 0.9812\n",
            "Epoch 6/10\n",
            "10/10 [==============================] - 7s 674ms/step - loss: 0.0327 - accuracy: 0.9937\n",
            "Epoch 7/10\n",
            "10/10 [==============================] - 7s 672ms/step - loss: 0.0282 - accuracy: 0.9969\n",
            "Epoch 8/10\n",
            "10/10 [==============================] - 7s 677ms/step - loss: 0.0212 - accuracy: 1.0000\n",
            "Epoch 9/10\n",
            "10/10 [==============================] - 7s 673ms/step - loss: 0.0065 - accuracy: 1.0000\n",
            "Epoch 10/10\n",
            "10/10 [==============================] - 7s 677ms/step - loss: 0.0047 - accuracy: 1.0000\n"
          ]
        },
        {
          "output_type": "execute_result",
          "data": {
            "text/plain": [
              "<keras.callbacks.History at 0x7fccba3ae090>"
            ]
          },
          "metadata": {},
          "execution_count": 6
        }
      ]
    }
  ]
}