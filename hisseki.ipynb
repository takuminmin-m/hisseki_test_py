{
  "nbformat": 4,
  "nbformat_minor": 0,
  "metadata": {
    "colab": {
      "name": "hisseki.ipynb",
      "private_outputs": true,
      "provenance": [],
      "authorship_tag": "ABX9TyNrbgQrdSWN9P2LECi0WzH6",
      "include_colab_link": true
    },
    "kernelspec": {
      "name": "python3",
      "display_name": "Python 3"
    },
    "language_info": {
      "name": "python"
    },
    "accelerator": "GPU"
  },
  "cells": [
    {
      "cell_type": "markdown",
      "metadata": {
        "id": "view-in-github",
        "colab_type": "text"
      },
      "source": [
        "<a href=\"https://colab.research.google.com/github/takuminmin-m/hisseki_test_py/blob/main/hisseki.ipynb\" target=\"_parent\"><img src=\"https://colab.research.google.com/assets/colab-badge.svg\" alt=\"Open In Colab\"/></a>"
      ]
    },
    {
      "cell_type": "markdown",
      "metadata": {
        "id": "bO61WJoQV922"
      },
      "source": [
        "ランタイムの接続が切れないようにするJavaScriptコード\n",
        "DevToolsのコンソールに入力\n",
        "\n",
        "JavaScript code to stop for the runtime to disconnect \n",
        "\n",
        "```javascript\n",
        "function KeepClicking(){\n",
        "console.log(\"Clicking\");\n",
        "document.querySelector(\"colab-connect-button\").click();\n",
        "}\n",
        "setInterval(KeepClicking,60000);\n",
        "```\n",
        "\n"
      ]
    },
    {
      "cell_type": "markdown",
      "metadata": {
        "id": "xOC0H0_kxQPT"
      },
      "source": [
        "# データのインポート import data\n",
        "google driveをマウント\n",
        "\n",
        "Mount google drive"
      ]
    },
    {
      "cell_type": "code",
      "metadata": {
        "id": "peJkLlk6xXvT"
      },
      "source": [
        "from google.colab import drive\n",
        "drive.mount('/content/drive')"
      ],
      "execution_count": null,
      "outputs": []
    },
    {
      "cell_type": "markdown",
      "metadata": {
        "id": "hYZZBckWZ8BI"
      },
      "source": [
        "ライブラリの読み込みなど\n",
        "\n",
        "Load libraries and more"
      ]
    },
    {
      "cell_type": "code",
      "metadata": {
        "id": "1M55o6TIZ6MJ"
      },
      "source": [
        "# tensorflow\n",
        "import tensorflow as tf\n",
        "from tensorflow import keras\n",
        "from tensorflow.keras import layers, models\n",
        "\n",
        "import os\n",
        "import numpy as np\n",
        "import IPython.display as display\n",
        "import random\n",
        "import matplotlib.pyplot as plt\n",
        "import pathlib\n",
        "\n",
        "AUTOTUNE = tf.data.experimental.AUTOTUNE"
      ],
      "execution_count": null,
      "outputs": []
    },
    {
      "cell_type": "markdown",
      "metadata": {
        "id": "FccIvfL-ziag"
      },
      "source": [
        "作業ディレクトリの移動とデータの読み込み\n",
        "\n",
        "Change the working directory and load labels.txt and handwriting images"
      ]
    },
    {
      "cell_type": "code",
      "metadata": {
        "id": "zVJQziip2fMk"
      },
      "source": [
        "%cd /content/drive/MyDrive/colab/hisseki_test_py\n",
        "\n",
        "def preprocess_image(image):\n",
        "  image_4ch = tf.image.decode_image(image, channels=4, expand_animations=False)\n",
        "  image_4ch = tf.image.resize(image_4ch, [128, 128])\n",
        "  # image = tf.cast(tf.reduce_sum(image_4ch, 2, keepdims=True), tf.float32)\n",
        "  # image /= 255.0  # normalize to [0,1] range\n",
        "  image_4ch /= 255.0\n",
        "\n",
        "  return image_4ch\n",
        "\n",
        "def load_and_preprocess_image(path):\n",
        "  image = tf.io.read_file(path)\n",
        "  return preprocess_image(image)\n",
        "\n",
        "label_file = open(\"tf_datas/labels.txt\")\n",
        "labels_str = label_file.readlines()\n",
        "label_file.close()\n",
        "all_labels = list(map(lambda str: int(str), labels_str))\n",
        "\n",
        "data_num = len(all_labels)\n",
        "member_num = len(set(all_labels))\n",
        "image_paths = []\n",
        "for i in range(data_num):\n",
        "  image_paths.append(\"/content/drive/MyDrive/colab/hisseki_test_py/tf_datas/hisseki%d.png\" % i)\n",
        "\n",
        "image_paths = tf.data.Dataset.from_tensor_slices(image_paths)\n",
        "all_images = list(image_paths.map(load_and_preprocess_image, num_parallel_calls=AUTOTUNE))\n",
        "all_datas = []\n",
        "for i in range(data_num):\n",
        "  all_datas.append({\"image\": all_images[i], \"label\": all_labels[i]})\n",
        "\n",
        "# ランダムに画像をテスト表示\n",
        "# randomly choose a handwriting image and show to test\n",
        "plt.imshow(random.choice(all_images))\n",
        "plt.grid(False)\n",
        "plt.show()"
      ],
      "execution_count": null,
      "outputs": []
    },
    {
      "cell_type": "markdown",
      "metadata": {
        "id": "eWUJRtaNiGbh"
      },
      "source": [
        "教師データの前処理\n",
        "\n",
        "Preprocess training data"
      ]
    },
    {
      "cell_type": "code",
      "metadata": {
        "id": "BBm_NxIXiAla"
      },
      "source": [
        "def split(list, slice_index):\n",
        "  shuffled_list = list\n",
        "  random.shuffle(shuffled_list)\n",
        "  return shuffled_list[:slice_index], shuffled_list[slice_index:]\n",
        "\n",
        "def separate_image_and_label(list):\n",
        "  images = []\n",
        "  labels = []\n",
        "  for i in range(len(list)):\n",
        "    images.append(list[i][\"image\"])\n",
        "    labels.append(list[i][\"label\"])\n",
        "  return images, labels\n",
        "\n",
        "random.shuffle(all_datas)\n",
        "slice_index = int(data_num * 0.9)\n",
        "train_datas, test_datas = split(all_datas, slice_index)\n",
        "\n",
        "train_images, train_labels = separate_image_and_label(train_datas)\n",
        "test_images, test_labels = separate_image_and_label(test_datas)\n",
        "\n",
        "train_images = np.array(train_images)\n",
        "train_labels = np.array(train_labels)\n",
        "test_images = np.array(test_images)\n",
        "test_labels = np.array(test_labels)"
      ],
      "execution_count": null,
      "outputs": []
    },
    {
      "cell_type": "markdown",
      "metadata": {
        "id": "6URNOKUknvgG"
      },
      "source": [
        "# モデルを作成 Make a model\n",
        "\n",
        "モデルの設定\n",
        "\n",
        "Set model"
      ]
    },
    {
      "cell_type": "code",
      "metadata": {
        "id": "xsoJK_VPnsaK"
      },
      "source": [
        "model = keras.Sequential([\n",
        "    layers.Conv2D(32, (3, 3), activation=\"relu\", input_shape=(128, 128, 4)),\n",
        "    layers.MaxPooling2D((2, 2)),\n",
        "    layers.Conv2D(64, (3, 3), activation=\"relu\"),\n",
        "    layers.MaxPooling2D((2, 2)),\n",
        "    layers.Conv2D(64, (3, 3), activation=\"relu\"),\n",
        "    layers.Flatten(),\n",
        "    layers.Dense(64, activation=\"relu\"),\n",
        "    layers.Dense(member_num, activation=\"softmax\")\n",
        "])\n",
        "\n",
        "model.compile(\n",
        "    optimizer=\"adam\",\n",
        "    loss=\"sparse_categorical_crossentropy\",\n",
        "    metrics=[\"accuracy\"]\n",
        ")\n",
        "\n",
        "model.summary()\n",
        "\n",
        "keras.utils.plot_model(model, \"model_plot.png\", show_shapes=True)"
      ],
      "execution_count": null,
      "outputs": []
    },
    {
      "cell_type": "markdown",
      "metadata": {
        "id": "6hW4xctLounl"
      },
      "source": [
        "# 訓練 Train"
      ]
    },
    {
      "cell_type": "code",
      "metadata": {
        "id": "EuYUFrSpoxxT"
      },
      "source": [
        "model.fit(train_images, train_labels, epochs=20)"
      ],
      "execution_count": null,
      "outputs": []
    },
    {
      "cell_type": "markdown",
      "metadata": {
        "id": "xtc3l9oPr6uC"
      },
      "source": [
        ""
      ]
    },
    {
      "cell_type": "markdown",
      "metadata": {
        "id": "lCcWgA0GqEa5"
      },
      "source": [
        "評価\n",
        "\n",
        "Evaluation"
      ]
    },
    {
      "cell_type": "code",
      "metadata": {
        "id": "41n_YZjzqhxl"
      },
      "source": [
        "model.evaluate(test_images, test_labels, verbose=2)"
      ],
      "execution_count": null,
      "outputs": []
    }
  ]
}